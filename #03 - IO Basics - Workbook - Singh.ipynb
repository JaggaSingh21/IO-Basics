{
 "cells": [
  {
   "cell_type": "markdown",
   "metadata": {},
   "source": [
    "# Jagwinder Singh"
   ]
  },
  {
   "cell_type": "markdown",
   "metadata": {},
   "source": [
    "## JNM03 - Workbook\n",
    "(version 10/14/20)"
   ]
  },
  {
   "cell_type": "markdown",
   "metadata": {},
   "source": [
    "# I/O Basics\n",
    "## Working with CSV, DataFrames, HTML, Columns and Indexes"
   ]
  },
  {
   "cell_type": "markdown",
   "metadata": {},
   "source": [
    "1) Enter imports:"
   ]
  },
  {
   "cell_type": "code",
   "execution_count": 1,
   "metadata": {},
   "outputs": [],
   "source": [
    "import pandas as pd"
   ]
  },
  {
   "cell_type": "markdown",
   "metadata": {},
   "source": [
    "2) Read in the Zillow CSV file to a dataframe and print the head:"
   ]
  },
  {
   "cell_type": "code",
   "execution_count": 2,
   "metadata": {
    "scrolled": true
   },
   "outputs": [
    {
     "name": "stdout",
     "output_type": "stream",
     "text": [
      "         Date       Value\n",
      "0  2017-12-31  216.182951\n",
      "1  2017-11-30  215.822073\n",
      "2  2017-10-31  215.818669\n",
      "3  2017-09-30  214.548963\n",
      "4  2017-08-31  215.014978\n"
     ]
    }
   ],
   "source": [
    "df = pd.read_csv('ZILLOW-CO1749_MLPSF.csv')\n",
    "\n",
    "print(df.head())"
   ]
  },
  {
   "cell_type": "markdown",
   "metadata": {},
   "source": [
    "3) Set the 'Date' column as an index and print the first row:"
   ]
  },
  {
   "cell_type": "code",
   "execution_count": 3,
   "metadata": {},
   "outputs": [
    {
     "name": "stdout",
     "output_type": "stream",
     "text": [
      "                 Value\n",
      "Date                  \n",
      "2017-12-31  216.182951\n"
     ]
    }
   ],
   "source": [
    "df.set_index('Date', inplace=True)\n",
    "\n",
    "print(df.head(1))"
   ]
  },
  {
   "cell_type": "markdown",
   "metadata": {},
   "source": [
    "4) Export the data to a CSV file and name the file WorkbookCSV1.csv:"
   ]
  },
  {
   "cell_type": "code",
   "execution_count": 4,
   "metadata": {},
   "outputs": [],
   "source": [
    "df.to_csv('WorkbookCSV1.csv')"
   ]
  },
  {
   "cell_type": "markdown",
   "metadata": {},
   "source": [
    "5) Read back into a dataframe the data from the file WorkbookCSV1.csv and print the first row:"
   ]
  },
  {
   "cell_type": "code",
   "execution_count": 5,
   "metadata": {},
   "outputs": [
    {
     "name": "stdout",
     "output_type": "stream",
     "text": [
      "         Date       Value\n",
      "0  2017-12-31  216.182951\n"
     ]
    }
   ],
   "source": [
    "df = pd.read_csv('WorkbookCSV1.csv')\n",
    "\n",
    "print(df.head(1))"
   ]
  },
  {
   "cell_type": "markdown",
   "metadata": {},
   "source": [
    "6) Set the 'Date' column as an index and print the first row:"
   ]
  },
  {
   "cell_type": "code",
   "execution_count": 6,
   "metadata": {},
   "outputs": [
    {
     "name": "stdout",
     "output_type": "stream",
     "text": [
      "                 Value\n",
      "Date                  \n",
      "2017-12-31  216.182951\n"
     ]
    }
   ],
   "source": [
    "df.set_index('Date', inplace=True)\n",
    "\n",
    "print(df.head(1))"
   ]
  },
  {
   "cell_type": "markdown",
   "metadata": {},
   "source": [
    "7) Export the column 'Value' file WorkbookCSV2.csv:"
   ]
  },
  {
   "cell_type": "code",
   "execution_count": 20,
   "metadata": {},
   "outputs": [],
   "source": [
    "df['Value'].to_csv('WorkbookCSV2.csv')"
   ]
  },
  {
   "cell_type": "markdown",
   "metadata": {},
   "source": [
    "8) Read back into a dataframe the data from the file WorkbookCSV2.csv and print the first row:"
   ]
  },
  {
   "cell_type": "code",
   "execution_count": 21,
   "metadata": {},
   "outputs": [
    {
     "name": "stdout",
     "output_type": "stream",
     "text": [
      "   Unnamed: 0       Value\n",
      "0           0  216.182951\n"
     ]
    }
   ],
   "source": [
    "df = pd.read_csv('WorkbookCSV2.csv')\n",
    "print(df.head(1))"
   ]
  },
  {
   "cell_type": "markdown",
   "metadata": {},
   "source": [
    "9) Read in the Zillow CSV file into the dataframe again and print the last row:"
   ]
  },
  {
   "cell_type": "code",
   "execution_count": 22,
   "metadata": {},
   "outputs": [
    {
     "name": "stdout",
     "output_type": "stream",
     "text": [
      "           Date      Value\n",
      "515  1975-01-31  23.276625\n"
     ]
    }
   ],
   "source": [
    "df = pd.read_csv('ZILLOW-CO1749_MLPSF.csv')\n",
    "\n",
    "print(df.tail(1))"
   ]
  },
  {
   "cell_type": "markdown",
   "metadata": {},
   "source": [
    "10) Relabel the existing Dataframe column 'Value' to 'Home_Prices' and print the head:"
   ]
  },
  {
   "cell_type": "code",
   "execution_count": 23,
   "metadata": {},
   "outputs": [
    {
     "name": "stdout",
     "output_type": "stream",
     "text": [
      "         Date  Home_Prices\n",
      "0  2017-12-31   216.182951\n",
      "1  2017-11-30   215.822073\n",
      "2  2017-10-31   215.818669\n",
      "3  2017-09-30   214.548963\n",
      "4  2017-08-31   215.014978\n"
     ]
    }
   ],
   "source": [
    "df.rename(columns={'Value':'Home_Prices'}, inplace=True)\n",
    "\n",
    "print(df.head())"
   ]
  },
  {
   "cell_type": "markdown",
   "metadata": {},
   "source": [
    "11) Set the 'Date' column as an index and print the first row:"
   ]
  },
  {
   "cell_type": "code",
   "execution_count": 24,
   "metadata": {},
   "outputs": [
    {
     "name": "stdout",
     "output_type": "stream",
     "text": [
      "            Home_Prices\n",
      "Date                   \n",
      "2017-12-31   216.182951\n"
     ]
    }
   ],
   "source": [
    "df.set_index('Date', inplace=True)\n",
    "\n",
    "print(df.head(1))"
   ]
  },
  {
   "cell_type": "markdown",
   "metadata": {},
   "source": [
    "12) Export the existing Dataframe data to a CSV file and name the file WorkbookCSV3.csv without the column labels, Read back into a dataframe the data from the file WorkbookCSV3.csv and print the first three rows:"
   ]
  },
  {
   "cell_type": "code",
   "execution_count": 25,
   "metadata": {
    "scrolled": true
   },
   "outputs": [
    {
     "name": "stdout",
     "output_type": "stream",
     "text": [
      "   2017-12-31  216.182951\n",
      "0  2017-11-30  215.822073\n",
      "1  2017-10-31  215.818669\n",
      "2  2017-09-30  214.548963\n"
     ]
    }
   ],
   "source": [
    "df.to_csv('WorkbookCSV3.csv', header=False)\n",
    "df = pd.read_csv('WorkbookCSV3.csv')\n",
    "print(df.head(3))"
   ]
  },
  {
   "cell_type": "markdown",
   "metadata": {},
   "source": [
    "13) Reread back in the file WorkbookCSV3.csv to the Dataframe, this time add the column labels 'Date' and 'House_Price' (Respectively), set 'Date' as the index (all at once), then print the first three lines:"
   ]
  },
  {
   "cell_type": "code",
   "execution_count": 26,
   "metadata": {},
   "outputs": [
    {
     "name": "stdout",
     "output_type": "stream",
     "text": [
      "            House_Price\n",
      "Date                   \n",
      "2017-12-31   216.182951\n",
      "2017-11-30   215.822073\n",
      "2017-10-31   215.818669\n"
     ]
    }
   ],
   "source": [
    "df = pd.read_csv('WorkbookCSV3.csv', names = ['Date','House_Price'], index_col=0)\n",
    "print(df.head(3))"
   ]
  },
  {
   "cell_type": "markdown",
   "metadata": {},
   "source": [
    "14) Remove the index from the dataframe (keeping all labels) and print the last three lines:"
   ]
  },
  {
   "cell_type": "code",
   "execution_count": 27,
   "metadata": {},
   "outputs": [
    {
     "name": "stdout",
     "output_type": "stream",
     "text": [
      "           Date  House_Price\n",
      "513  1975-03-31    23.980209\n",
      "514  1975-02-28    23.534914\n",
      "515  1975-01-31    23.276625\n"
     ]
    }
   ],
   "source": [
    "df.reset_index('Date', inplace=True)\n",
    "print(df.tail(3))"
   ]
  },
  {
   "cell_type": "markdown",
   "metadata": {},
   "source": [
    "13) Create an HTML file named WorkbookHTML.html from the data in the Dataframe"
   ]
  },
  {
   "cell_type": "code",
   "execution_count": 28,
   "metadata": {},
   "outputs": [],
   "source": [
    "df.to_html('WorkbookHTML.html')"
   ]
  },
  {
   "cell_type": "markdown",
   "metadata": {},
   "source": [
    "14) Rename existing Dataframe columns at the same time to 'Calendar_Date' and 'Price' (Respectively) and print the first ten rows:"
   ]
  },
  {
   "cell_type": "code",
   "execution_count": 29,
   "metadata": {},
   "outputs": [
    {
     "name": "stdout",
     "output_type": "stream",
     "text": [
      "  Calendar_Date       Price\n",
      "0    2017-12-31  216.182951\n",
      "1    2017-11-30  215.822073\n",
      "2    2017-10-31  215.818669\n",
      "3    2017-09-30  214.548963\n",
      "4    2017-08-31  215.014978\n",
      "5    2017-07-31  215.178273\n",
      "6    2017-06-30  214.933488\n",
      "7    2017-05-31  213.989428\n",
      "8    2017-04-30  211.439667\n",
      "9    2017-03-31  208.287285\n"
     ]
    }
   ],
   "source": [
    "df = pd.read_csv('WorkbookCSV3.csv', names = ['Calendar_Date','Price'])\n",
    "print(df.head(10))"
   ]
  },
  {
   "cell_type": "markdown",
   "metadata": {},
   "source": [
    "15) Rename the Dataframe column 'Calendar_Date' to 'Date', set the column 'Date' as the index and print the first eight rows:"
   ]
  },
  {
   "cell_type": "code",
   "execution_count": 30,
   "metadata": {},
   "outputs": [
    {
     "name": "stdout",
     "output_type": "stream",
     "text": [
      "                 Price\n",
      "Date                  \n",
      "2017-12-31  216.182951\n",
      "2017-11-30  215.822073\n",
      "2017-10-31  215.818669\n",
      "2017-09-30  214.548963\n",
      "2017-08-31  215.014978\n",
      "2017-07-31  215.178273\n",
      "2017-06-30  214.933488\n",
      "2017-05-31  213.989428\n"
     ]
    }
   ],
   "source": [
    "df.rename(columns={'Calendar_Date':'Date'}, inplace=True)\n",
    "df.set_index('Date', inplace=True)\n",
    "print(df.head(8))"
   ]
  }
 ],
 "metadata": {
  "kernelspec": {
   "display_name": "Python 3",
   "language": "python",
   "name": "python3"
  },
  "language_info": {
   "codemirror_mode": {
    "name": "ipython",
    "version": 3
   },
   "file_extension": ".py",
   "mimetype": "text/x-python",
   "name": "python",
   "nbconvert_exporter": "python",
   "pygments_lexer": "ipython3",
   "version": "3.8.5"
  }
 },
 "nbformat": 4,
 "nbformat_minor": 2
}
